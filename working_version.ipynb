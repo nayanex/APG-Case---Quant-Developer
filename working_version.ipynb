{
 "cells": [
  {
   "cell_type": "code",
   "execution_count": 0,
   "metadata": {
    "application/vnd.databricks.v1+cell": {
     "cellMetadata": {
      "byteLimit": 2048000,
      "rowLimit": 10000
     },
     "inputWidgets": {},
     "nuid": "20214dec-02f7-461a-9405-7d499aa6a204",
     "showTitle": false,
     "title": ""
    }
   },
   "outputs": [
    {
     "output_type": "stream",
     "name": "stdout",
     "output_type": "stream",
     "text": [
      "\u001B[43mNote: you may need to restart the kernel using dbutils.library.restartPython() to use updated packages.\u001B[0m\nRequirement already satisfied: pandas-profiling in /local_disk0/.ephemeral_nfs/envs/pythonEnv-d95e3ea6-5048-4c7f-9bc6-9fe6a41ab7f9/lib/python3.10/site-packages (3.6.6)\nRequirement already satisfied: ydata-profiling in /local_disk0/.ephemeral_nfs/envs/pythonEnv-d95e3ea6-5048-4c7f-9bc6-9fe6a41ab7f9/lib/python3.10/site-packages (from pandas-profiling) (4.9.0)\nRequirement already satisfied: numba<1,>=0.56.0 in /local_disk0/.ephemeral_nfs/envs/pythonEnv-d95e3ea6-5048-4c7f-9bc6-9fe6a41ab7f9/lib/python3.10/site-packages (from ydata-profiling->pandas-profiling) (0.60.0)\nRequirement already satisfied: visions[type_image_path]<0.7.7,>=0.7.5 in /local_disk0/.ephemeral_nfs/envs/pythonEnv-d95e3ea6-5048-4c7f-9bc6-9fe6a41ab7f9/lib/python3.10/site-packages (from ydata-profiling->pandas-profiling) (0.7.6)\nRequirement already satisfied: scipy<1.14,>=1.4.1 in /databricks/python3/lib/python3.10/site-packages (from ydata-profiling->pandas-profiling) (1.10.0)\nRequirement already satisfied: dacite>=1.8 in /local_disk0/.ephemeral_nfs/envs/pythonEnv-d95e3ea6-5048-4c7f-9bc6-9fe6a41ab7f9/lib/python3.10/site-packages (from ydata-profiling->pandas-profiling) (1.8.1)\nRequirement already satisfied: wordcloud>=1.9.1 in /local_disk0/.ephemeral_nfs/envs/pythonEnv-d95e3ea6-5048-4c7f-9bc6-9fe6a41ab7f9/lib/python3.10/site-packages (from ydata-profiling->pandas-profiling) (1.9.3)\nRequirement already satisfied: imagehash==4.3.1 in /local_disk0/.ephemeral_nfs/envs/pythonEnv-d95e3ea6-5048-4c7f-9bc6-9fe6a41ab7f9/lib/python3.10/site-packages (from ydata-profiling->pandas-profiling) (4.3.1)\nRequirement already satisfied: seaborn<0.14,>=0.10.1 in /databricks/python3/lib/python3.10/site-packages (from ydata-profiling->pandas-profiling) (0.12.2)\nRequirement already satisfied: statsmodels<1,>=0.13.2 in /databricks/python3/lib/python3.10/site-packages (from ydata-profiling->pandas-profiling) (0.13.5)\nRequirement already satisfied: jinja2<3.2,>=2.11.1 in /databricks/python3/lib/python3.10/site-packages (from ydata-profiling->pandas-profiling) (3.1.2)\nRequirement already satisfied: numpy<2,>=1.16.0 in /databricks/python3/lib/python3.10/site-packages (from ydata-profiling->pandas-profiling) (1.23.5)\nRequirement already satisfied: tqdm<5,>=4.48.2 in /local_disk0/.ephemeral_nfs/envs/pythonEnv-d95e3ea6-5048-4c7f-9bc6-9fe6a41ab7f9/lib/python3.10/site-packages (from ydata-profiling->pandas-profiling) (4.66.4)\nRequirement already satisfied: typeguard<5,>=3 in /local_disk0/.ephemeral_nfs/envs/pythonEnv-d95e3ea6-5048-4c7f-9bc6-9fe6a41ab7f9/lib/python3.10/site-packages (from ydata-profiling->pandas-profiling) (4.3.0)\nRequirement already satisfied: requests<3,>=2.24.0 in /databricks/python3/lib/python3.10/site-packages (from ydata-profiling->pandas-profiling) (2.28.1)\nRequirement already satisfied: phik<0.13,>=0.11.1 in /local_disk0/.ephemeral_nfs/envs/pythonEnv-d95e3ea6-5048-4c7f-9bc6-9fe6a41ab7f9/lib/python3.10/site-packages (from ydata-profiling->pandas-profiling) (0.12.4)\nRequirement already satisfied: PyYAML<6.1,>=5.0.0 in /local_disk0/.ephemeral_nfs/envs/pythonEnv-d95e3ea6-5048-4c7f-9bc6-9fe6a41ab7f9/lib/python3.10/site-packages (from ydata-profiling->pandas-profiling) (6.0.1)\nRequirement already satisfied: pandas!=1.4.0,<3,>1.1 in /local_disk0/.ephemeral_nfs/envs/pythonEnv-d95e3ea6-5048-4c7f-9bc6-9fe6a41ab7f9/lib/python3.10/site-packages (from ydata-profiling->pandas-profiling) (2.2.2)\nRequirement already satisfied: htmlmin==0.1.12 in /local_disk0/.ephemeral_nfs/envs/pythonEnv-d95e3ea6-5048-4c7f-9bc6-9fe6a41ab7f9/lib/python3.10/site-packages (from ydata-profiling->pandas-profiling) (0.1.12)\nRequirement already satisfied: multimethod<2,>=1.4 in /local_disk0/.ephemeral_nfs/envs/pythonEnv-d95e3ea6-5048-4c7f-9bc6-9fe6a41ab7f9/lib/python3.10/site-packages (from ydata-profiling->pandas-profiling) (1.12)\nRequirement already satisfied: pydantic>=2 in /local_disk0/.ephemeral_nfs/envs/pythonEnv-d95e3ea6-5048-4c7f-9bc6-9fe6a41ab7f9/lib/python3.10/site-packages (from ydata-profiling->pandas-profiling) (2.8.2)\nRequirement already satisfied: matplotlib<3.10,>=3.5 in /databricks/python3/lib/python3.10/site-packages (from ydata-profiling->pandas-profiling) (3.7.0)\nRequirement already satisfied: PyWavelets in /local_disk0/.ephemeral_nfs/envs/pythonEnv-d95e3ea6-5048-4c7f-9bc6-9fe6a41ab7f9/lib/python3.10/site-packages (from imagehash==4.3.1->ydata-profiling->pandas-profiling) (1.6.0)\nRequirement already satisfied: pillow in /databricks/python3/lib/python3.10/site-packages (from imagehash==4.3.1->ydata-profiling->pandas-profiling) (9.4.0)\nRequirement already satisfied: MarkupSafe>=2.0 in /databricks/python3/lib/python3.10/site-packages (from jinja2<3.2,>=2.11.1->ydata-profiling->pandas-profiling) (2.1.1)\nRequirement already satisfied: packaging>=20.0 in /databricks/python3/lib/python3.10/site-packages (from matplotlib<3.10,>=3.5->ydata-profiling->pandas-profiling) (23.2)\nRequirement already satisfied: pyparsing>=2.3.1 in /databricks/python3/lib/python3.10/site-packages (from matplotlib<3.10,>=3.5->ydata-profiling->pandas-profiling) (3.0.9)\nRequirement already satisfied: kiwisolver>=1.0.1 in /databricks/python3/lib/python3.10/site-packages (from matplotlib<3.10,>=3.5->ydata-profiling->pandas-profiling) (1.4.4)\nRequirement already satisfied: cycler>=0.10 in /databricks/python3/lib/python3.10/site-packages (from matplotlib<3.10,>=3.5->ydata-profiling->pandas-profiling) (0.11.0)\nRequirement already satisfied: contourpy>=1.0.1 in /databricks/python3/lib/python3.10/site-packages (from matplotlib<3.10,>=3.5->ydata-profiling->pandas-profiling) (1.0.5)\nRequirement already satisfied: fonttools>=4.22.0 in /databricks/python3/lib/python3.10/site-packages (from matplotlib<3.10,>=3.5->ydata-profiling->pandas-profiling) (4.25.0)\nRequirement already satisfied: python-dateutil>=2.7 in /databricks/python3/lib/python3.10/site-packages (from matplotlib<3.10,>=3.5->ydata-profiling->pandas-profiling) (2.8.2)\nRequirement already satisfied: llvmlite<0.44,>=0.43.0dev0 in /local_disk0/.ephemeral_nfs/envs/pythonEnv-d95e3ea6-5048-4c7f-9bc6-9fe6a41ab7f9/lib/python3.10/site-packages (from numba<1,>=0.56.0->ydata-profiling->pandas-profiling) (0.43.0)\nRequirement already satisfied: pytz>=2020.1 in /databricks/python3/lib/python3.10/site-packages (from pandas!=1.4.0,<3,>1.1->ydata-profiling->pandas-profiling) (2022.7)\nRequirement already satisfied: tzdata>=2022.7 in /local_disk0/.ephemeral_nfs/envs/pythonEnv-d95e3ea6-5048-4c7f-9bc6-9fe6a41ab7f9/lib/python3.10/site-packages (from pandas!=1.4.0,<3,>1.1->ydata-profiling->pandas-profiling) (2024.1)\nRequirement already satisfied: joblib>=0.14.1 in /databricks/python3/lib/python3.10/site-packages (from phik<0.13,>=0.11.1->ydata-profiling->pandas-profiling) (1.2.0)\nRequirement already satisfied: pydantic-core==2.20.1 in /local_disk0/.ephemeral_nfs/envs/pythonEnv-d95e3ea6-5048-4c7f-9bc6-9fe6a41ab7f9/lib/python3.10/site-packages (from pydantic>=2->ydata-profiling->pandas-profiling) (2.20.1)\nRequirement already satisfied: annotated-types>=0.4.0 in /local_disk0/.ephemeral_nfs/envs/pythonEnv-d95e3ea6-5048-4c7f-9bc6-9fe6a41ab7f9/lib/python3.10/site-packages (from pydantic>=2->ydata-profiling->pandas-profiling) (0.7.0)\nRequirement already satisfied: typing-extensions>=4.6.1 in /local_disk0/.ephemeral_nfs/envs/pythonEnv-d95e3ea6-5048-4c7f-9bc6-9fe6a41ab7f9/lib/python3.10/site-packages (from pydantic>=2->ydata-profiling->pandas-profiling) (4.12.2)\nRequirement already satisfied: idna<4,>=2.5 in /databricks/python3/lib/python3.10/site-packages (from requests<3,>=2.24.0->ydata-profiling->pandas-profiling) (3.4)\nRequirement already satisfied: charset-normalizer<3,>=2 in /databricks/python3/lib/python3.10/site-packages (from requests<3,>=2.24.0->ydata-profiling->pandas-profiling) (2.0.4)\nRequirement already satisfied: certifi>=2017.4.17 in /databricks/python3/lib/python3.10/site-packages (from requests<3,>=2.24.0->ydata-profiling->pandas-profiling) (2022.12.7)\nRequirement already satisfied: urllib3<1.27,>=1.21.1 in /databricks/python3/lib/python3.10/site-packages (from requests<3,>=2.24.0->ydata-profiling->pandas-profiling) (1.26.14)\nRequirement already satisfied: patsy>=0.5.2 in /databricks/python3/lib/python3.10/site-packages (from statsmodels<1,>=0.13.2->ydata-profiling->pandas-profiling) (0.5.3)\nRequirement already satisfied: attrs>=19.3.0 in /databricks/python3/lib/python3.10/site-packages (from visions[type_image_path]<0.7.7,>=0.7.5->ydata-profiling->pandas-profiling) (22.1.0)\nRequirement already satisfied: networkx>=2.4 in /local_disk0/.ephemeral_nfs/envs/pythonEnv-d95e3ea6-5048-4c7f-9bc6-9fe6a41ab7f9/lib/python3.10/site-packages (from visions[type_image_path]<0.7.7,>=0.7.5->ydata-profiling->pandas-profiling) (3.3)\nRequirement already satisfied: six in /usr/lib/python3/dist-packages (from patsy>=0.5.2->statsmodels<1,>=0.13.2->ydata-profiling->pandas-profiling) (1.16.0)\n\u001B[43mNote: you may need to restart the kernel using dbutils.library.restartPython() to use updated packages.\u001B[0m\n\u001B[43mNote: you may need to restart the kernel using dbutils.library.restartPython() to use updated packages.\u001B[0m\nRequirement already satisfied: pysqlite3 in /local_disk0/.ephemeral_nfs/envs/pythonEnv-d95e3ea6-5048-4c7f-9bc6-9fe6a41ab7f9/lib/python3.10/site-packages (0.5.3)\n\u001B[43mNote: you may need to restart the kernel using dbutils.library.restartPython() to use updated packages.\u001B[0m\n\u001B[43mNote: you may need to restart the kernel using dbutils.library.restartPython() to use updated packages.\u001B[0m\nRequirement already satisfied: pandas in /local_disk0/.ephemeral_nfs/envs/pythonEnv-d95e3ea6-5048-4c7f-9bc6-9fe6a41ab7f9/lib/python3.10/site-packages (2.2.2)\nRequirement already satisfied: tzdata>=2022.7 in /local_disk0/.ephemeral_nfs/envs/pythonEnv-d95e3ea6-5048-4c7f-9bc6-9fe6a41ab7f9/lib/python3.10/site-packages (from pandas) (2024.1)\nRequirement already satisfied: numpy>=1.22.4 in /databricks/python3/lib/python3.10/site-packages (from pandas) (1.23.5)\nRequirement already satisfied: python-dateutil>=2.8.2 in /databricks/python3/lib/python3.10/site-packages (from pandas) (2.8.2)\nRequirement already satisfied: pytz>=2020.1 in /databricks/python3/lib/python3.10/site-packages (from pandas) (2022.7)\nRequirement already satisfied: six>=1.5 in /usr/lib/python3/dist-packages (from python-dateutil>=2.8.2->pandas) (1.16.0)\n\u001B[43mNote: you may need to restart the kernel using dbutils.library.restartPython() to use updated packages.\u001B[0m\n\u001B[43mNote: you may need to restart the kernel using dbutils.library.restartPython() to use updated packages.\u001B[0m\nRequirement already satisfied: typing-extensions==4.12.2 in /local_disk0/.ephemeral_nfs/envs/pythonEnv-d95e3ea6-5048-4c7f-9bc6-9fe6a41ab7f9/lib/python3.10/site-packages (4.12.2)\n\u001B[43mNote: you may need to restart the kernel using dbutils.library.restartPython() to use updated packages.\u001B[0m\n"
     ]
    }
   ],
   "source": [
    "\n",
    "!pip install pandas-profiling\n",
    "!pip install pysqlite3 \n",
    "!pip install pandas\n",
    "!pip install typing-extensions==4.12.2"
   ]
  },
  {
   "cell_type": "code",
   "execution_count": 0,
   "metadata": {
    "application/vnd.databricks.v1+cell": {
     "cellMetadata": {
      "byteLimit": 2048000,
      "rowLimit": 10000
     },
     "inputWidgets": {},
     "nuid": "5ca8e94f-62e8-4b7a-ad43-9a47d3674f7c",
     "showTitle": false,
     "title": ""
    }
   },
   "outputs": [],
   "source": [
    "import sqlite3  \n",
    "import pandas as pd  \n",
    "  \n",
    "conn = sqlite3.connect('customer_data.sqlite3')  \n"
   ]
  },
  {
   "cell_type": "code",
   "execution_count": 0,
   "metadata": {
    "application/vnd.databricks.v1+cell": {
     "cellMetadata": {
      "byteLimit": 2048000,
      "rowLimit": 10000
     },
     "inputWidgets": {},
     "nuid": "4257b986-0472-4937-a25d-0a007418fcc8",
     "showTitle": false,
     "title": ""
    }
   },
   "outputs": [],
   "source": [
    "def load_api_oldcustomer(conn):  \n",
    "    query = '''  \n",
    "    SELECT loan_status,  \n",
    "           loan_amnt,  \n",
    "           term,  \n",
    "           CAST(int_rate AS REAL) as int_rate,  \n",
    "           CAST(installment AS REAL) as installment,  \n",
    "           sub_grade,  \n",
    "           CASE  \n",
    "               WHEN emp_length = '10+ years' THEN 10  \n",
    "               WHEN emp_length = '< 1 year' THEN 0  \n",
    "               ELSE CAST(SUBSTR(emp_length, 1, 2) AS INTEGER)  \n",
    "           END as emp_length,  \n",
    "           home_ownership,  \n",
    "           CASE  \n",
    "               WHEN home_ownership = 'MORTGAGE' THEN 1  \n",
    "               ELSE 0  \n",
    "           END as is_mortgage,  \n",
    "           CASE  \n",
    "               WHEN home_ownership = 'RENT' THEN 1  \n",
    "               ELSE 0  \n",
    "           END as is_rent,  \n",
    "           CASE  \n",
    "               WHEN home_ownership = 'OWN' THEN 1  \n",
    "               ELSE 0  \n",
    "           END as is_own,  \n",
    "           CASE  \n",
    "               WHEN home_ownership = 'ANY' THEN 1  \n",
    "               ELSE 0  \n",
    "           END as is_any,  \n",
    "           CASE  \n",
    "               WHEN home_ownership = 'OTHER' THEN 1  \n",
    "               ELSE 0  \n",
    "           END as is_other,  \n",
    "           CAST(annual_inc AS INTEGER) as annual_inc,  \n",
    "           verification_status,  \n",
    "           CASE  \n",
    "               WHEN verification_status = 'Verified' THEN 1  \n",
    "               ELSE 0  \n",
    "           END as is_verified,  \n",
    "           CASE  \n",
    "               WHEN verification_status = 'Not Verified' THEN 1  \n",
    "               ELSE 0  \n",
    "           END as is_not_verified,  \n",
    "           CASE  \n",
    "               WHEN verification_status = 'Source Verified' THEN 1  \n",
    "               ELSE 0  \n",
    "           END as is_source_verified,  \n",
    "           issue_d,  \n",
    "           purpose,  \n",
    "           addr_state,  \n",
    "           CAST(dti AS REAL) as dti,  \n",
    "           fico_range_low,  \n",
    "           fico_range_high,  \n",
    "           open_acc,  \n",
    "           pub_rec,  \n",
    "           revol_bal,  \n",
    "           CAST(revol_util AS REAL) as revol_util,  \n",
    "           mort_acc,  \n",
    "           pub_rec_bankruptcies,  \n",
    "           CAST(age AS INTEGER) as age,  \n",
    "           pay_status  \n",
    "    FROM api_oldcustomer  \n",
    "    '''  \n",
    "    df = pd.read_sql(query, conn)  \n",
    "  \n",
    "    # Fill missing values with median or mode  \n",
    "    df['dti'].fillna(df['dti'].median(), inplace=True)  \n",
    "    df['revol_util'].fillna(df['revol_util'].median(), inplace=True)  \n",
    "    df['mort_acc'].fillna(df['mort_acc'].mode()[0], inplace=True)  \n",
    "    df['pub_rec_bankruptcies'].fillna(df['pub_rec_bankruptcies'].mode()[0], inplace=True)  \n",
    "  \n",
    "    return df  \n"
   ]
  },
  {
   "cell_type": "code",
   "execution_count": 0,
   "metadata": {
    "application/vnd.databricks.v1+cell": {
     "cellMetadata": {
      "byteLimit": 2048000,
      "rowLimit": 10000
     },
     "inputWidgets": {},
     "nuid": "4d9dd571-bc6f-400e-a67d-b8e3a20bd077",
     "showTitle": false,
     "title": ""
    }
   },
   "outputs": [],
   "source": [
    "def load_api_newcustomer(conn):  \n",
    "    query = '''  \n",
    "    SELECT loan_status,  \n",
    "           CAST(loan_amnt AS REAL) as loan_amnt,  \n",
    "           term,  \n",
    "           CAST(int_rate AS REAL) as int_rate,  \n",
    "           CAST(installment AS REAL) as installment,  \n",
    "           sub_grade_id,  \n",
    "           employment_length,  \n",
    "           home_ownership_id,  \n",
    "           CAST(annual_inc AS INTEGER) as annual_inc,  \n",
    "           verification_status_id,  \n",
    "           issued,  \n",
    "           purpose_id,  \n",
    "           addr_state_id,  \n",
    "           CAST(dti AS REAL) as dti,  \n",
    "           CAST(fico_range_low AS INTEGER) as fico_range_low,  \n",
    "           CAST(fico_range_high AS INTEGER) as fico_range_high,  \n",
    "           CAST(open_acc AS INTEGER) as open_acc,  \n",
    "           CAST(pub_rec AS INTEGER) as pub_rec,  \n",
    "           CAST(revol_bal AS INTEGER) as revol_bal,  \n",
    "           CAST(revol_util AS REAL) as revol_util,  \n",
    "           CAST(mort_acc AS INTEGER) as mort_acc,  \n",
    "           CAST(pub_rec_bankruptcies AS INTEGER) as pub_rec_bankruptcies,  \n",
    "           CAST(age AS INTEGER) as age,  \n",
    "           payment_status  \n",
    "    FROM api_newcustomer  \n",
    "    '''  \n",
    "    df = pd.read_sql(query, conn)  \n",
    "  \n",
    "    # Fill missing values with median or mode  \n",
    "    df['dti'].fillna(df['dti'].median(), inplace=True)  \n",
    "    df['revol_util'].fillna(df['revol_util'].median(), inplace=True)  \n",
    "    df['mort_acc'].fillna(df['mort_acc'].mode()[0], inplace=True)  \n",
    "    df['pub_rec_bankruptcies'].fillna(df['pub_rec_bankruptcies'].mode()[0], inplace=True)  \n",
    "  \n",
    "    return df  \n",
    "\n",
    "\n",
    "def load_api_homeownership(conn):  \n",
    "    query = '''  \n",
    "    SELECT id, name  \n",
    "    FROM api_homeownership  \n",
    "    '''  \n",
    "    df = pd.read_sql(query, conn)  \n",
    "    return df  \n",
    "  \n",
    "  \n",
    "def load_api_purpose(conn):  \n",
    "    query = '''  \n",
    "    SELECT id, name  \n",
    "    FROM api_purpose  \n",
    "    '''  \n",
    "    df = pd.read_sql(query, conn)  \n",
    "    return df  \n",
    "  \n",
    "  \n",
    "def load_api_state(conn):  \n",
    "    query = '''  \n",
    "    SELECT id, name  \n",
    "    FROM api_state  \n",
    "    '''  \n",
    "    df = pd.read_sql(query, conn)  \n",
    "    return df  \n",
    "  \n",
    "  \n",
    "def load_api_subgrade(conn):  \n",
    "    query = '''  \n",
    "    SELECT id, name  \n",
    "    FROM api_subgrade  \n",
    "    '''  \n",
    "    df = pd.read_sql(query, conn)  \n",
    "    return df  \n",
    "\n",
    "def load_api_verificationstatus(conn):  \n",
    "    query = '''  \n",
    "    SELECT id, name  \n",
    "    FROM api_verificationstatus  \n",
    "    '''  \n",
    "    df = pd.read_sql(query, conn)  \n",
    "    return df  \n",
    "\n"
   ]
  },
  {
   "cell_type": "code",
   "execution_count": 0,
   "metadata": {
    "application/vnd.databricks.v1+cell": {
     "cellMetadata": {
      "byteLimit": 2048000,
      "rowLimit": 10000
     },
     "inputWidgets": {},
     "nuid": "9ec890bc-24fd-4859-8ed3-993b5e7eb98c",
     "showTitle": false,
     "title": ""
    }
   },
   "outputs": [
    {
     "output_type": "stream",
     "name": "stderr",
     "output_type": "stream",
     "text": [
      "/root/.ipykernel/13731/command-1573740770627923-1457642408:10: FutureWarning: Passing 'suffixes' which cause duplicate columns {'name_x', 'id_x'} in the result is deprecated and will raise a MergeError in a future version.\n  df = df.merge(api_subgrade, how='left', left_on='sub_grade', right_on='name')\n"
     ]
    }
   ],
   "source": [
    "api_homeownership = pd.read_sql('SELECT * FROM api_homeownership', conn)  \n",
    "api_purpose = pd.read_sql('SELECT * FROM api_purpose', conn)  \n",
    "api_state = pd.read_sql('SELECT * FROM api_state', conn)  \n",
    "api_subgrade = pd.read_sql('SELECT * FROM api_subgrade', conn)  \n",
    "  \n",
    "df = load_api_oldcustomer(conn)  \n",
    "df = df.merge(api_homeownership, how='left', left_on='home_ownership', right_on='name')  \n",
    "df = df.merge(api_purpose, how='left', left_on='purpose', right_on='name')  \n",
    "df = df.merge(api_state, how='left', left_on='addr_state', right_on='name')  \n",
    "df = df.merge(api_subgrade, how='left', left_on='sub_grade', right_on='name')  \n",
    "  \n",
    "df.drop(['home_ownership', 'purpose', 'addr_state', 'sub_grade'], axis=1, inplace=True)  \n"
   ]
  },
  {
   "cell_type": "code",
   "execution_count": 0,
   "metadata": {
    "application/vnd.databricks.v1+cell": {
     "cellMetadata": {
      "byteLimit": 2048000,
      "rowLimit": 10000
     },
     "inputWidgets": {},
     "nuid": "fbba6241-4133-430f-bc2b-c632ebf4d3f3",
     "showTitle": false,
     "title": ""
    }
   },
   "outputs": [],
   "source": [
    "df.to_csv('final_dataset.csv', index=False)  \n"
   ]
  },
  {
   "cell_type": "code",
   "execution_count": 0,
   "metadata": {
    "application/vnd.databricks.v1+cell": {
     "cellMetadata": {
      "byteLimit": 2048000,
      "rowLimit": 10000
     },
     "inputWidgets": {},
     "nuid": "75e5f5a0-fdbb-4521-9bd3-b4646fee4fe9",
     "showTitle": false,
     "title": ""
    }
   },
   "outputs": [
    {
     "output_type": "display_data",
     "data": {
      "text/plain": [
       "\u001B[0;31m---------------------------------------------------------------------------\u001B[0m\n",
       "\u001B[0;31mImportError\u001B[0m                               Traceback (most recent call last)\n",
       "File \u001B[0;32m<command-1573740770627934>, line 2\u001B[0m\n",
       "\u001B[1;32m      1\u001B[0m \u001B[38;5;28;01mimport\u001B[39;00m \u001B[38;5;21;01mpandas\u001B[39;00m \u001B[38;5;28;01mas\u001B[39;00m \u001B[38;5;21;01mpd\u001B[39;00m  \n",
       "\u001B[0;32m----> 2\u001B[0m \u001B[38;5;28;01mfrom\u001B[39;00m \u001B[38;5;21;01mpandas_profiling\u001B[39;00m \u001B[38;5;28;01mimport\u001B[39;00m ProfileReport  \n",
       "\u001B[1;32m      4\u001B[0m df \u001B[38;5;241m=\u001B[39m pd\u001B[38;5;241m.\u001B[39mread_csv(\u001B[38;5;124m'\u001B[39m\u001B[38;5;124mfinal_dataset.csv\u001B[39m\u001B[38;5;124m'\u001B[39m)  \n",
       "\u001B[1;32m      7\u001B[0m profile \u001B[38;5;241m=\u001B[39m ProfileReport(df, title\u001B[38;5;241m=\u001B[39m\u001B[38;5;124m'\u001B[39m\u001B[38;5;124mProfile Report\u001B[39m\u001B[38;5;124m'\u001B[39m, explorative\u001B[38;5;241m=\u001B[39m\u001B[38;5;28;01mTrue\u001B[39;00m)  \n",
       "\n",
       "File \u001B[0;32m/local_disk0/.ephemeral_nfs/envs/pythonEnv-d95e3ea6-5048-4c7f-9bc6-9fe6a41ab7f9/lib/python3.10/site-packages/pandas_profiling/__init__.py:8\u001B[0m\n",
       "\u001B[1;32m      1\u001B[0m \u001B[38;5;124;03m\"\"\"Main module of pandas-profiling.\u001B[39;00m\n",
       "\u001B[1;32m      2\u001B[0m \n",
       "\u001B[1;32m      3\u001B[0m \u001B[38;5;124;03m.. include:: ../../README.md\u001B[39;00m\n",
       "\u001B[1;32m      4\u001B[0m \u001B[38;5;124;03m\"\"\"\u001B[39;00m\n",
       "\u001B[1;32m      6\u001B[0m \u001B[38;5;28;01mfrom\u001B[39;00m \u001B[38;5;21;01mwarnings\u001B[39;00m \u001B[38;5;28;01mimport\u001B[39;00m warn\n",
       "\u001B[0;32m----> 8\u001B[0m \u001B[38;5;28;01mfrom\u001B[39;00m \u001B[38;5;21;01mpandas_profiling\u001B[39;00m\u001B[38;5;21;01m.\u001B[39;00m\u001B[38;5;21;01mcompare_reports\u001B[39;00m \u001B[38;5;28;01mimport\u001B[39;00m compare\n",
       "\u001B[1;32m      9\u001B[0m \u001B[38;5;28;01mfrom\u001B[39;00m \u001B[38;5;21;01mpandas_profiling\u001B[39;00m\u001B[38;5;21;01m.\u001B[39;00m\u001B[38;5;21;01mcontroller\u001B[39;00m \u001B[38;5;28;01mimport\u001B[39;00m pandas_decorator\n",
       "\u001B[1;32m     10\u001B[0m \u001B[38;5;28;01mfrom\u001B[39;00m \u001B[38;5;21;01mpandas_profiling\u001B[39;00m\u001B[38;5;21;01m.\u001B[39;00m\u001B[38;5;21;01mprofile_report\u001B[39;00m \u001B[38;5;28;01mimport\u001B[39;00m ProfileReport\n",
       "\n",
       "File \u001B[0;32m/local_disk0/.ephemeral_nfs/envs/pythonEnv-d95e3ea6-5048-4c7f-9bc6-9fe6a41ab7f9/lib/python3.10/site-packages/pandas_profiling/compare_reports.py:6\u001B[0m\n",
       "\u001B[1;32m      2\u001B[0m \u001B[38;5;28;01mfrom\u001B[39;00m \u001B[38;5;21;01mtyping\u001B[39;00m \u001B[38;5;28;01mimport\u001B[39;00m Any, List, Optional, Tuple, Union\n",
       "\u001B[1;32m      4\u001B[0m \u001B[38;5;28;01mimport\u001B[39;00m \u001B[38;5;21;01mpandas\u001B[39;00m \u001B[38;5;28;01mas\u001B[39;00m \u001B[38;5;21;01mpd\u001B[39;00m\n",
       "\u001B[0;32m----> 6\u001B[0m \u001B[38;5;28;01mfrom\u001B[39;00m \u001B[38;5;21;01mpandas_profiling\u001B[39;00m\u001B[38;5;21;01m.\u001B[39;00m\u001B[38;5;21;01mconfig\u001B[39;00m \u001B[38;5;28;01mimport\u001B[39;00m Correlation, Settings\n",
       "\u001B[1;32m      7\u001B[0m \u001B[38;5;28;01mfrom\u001B[39;00m \u001B[38;5;21;01mpandas_profiling\u001B[39;00m\u001B[38;5;21;01m.\u001B[39;00m\u001B[38;5;21;01mmodel\u001B[39;00m\u001B[38;5;21;01m.\u001B[39;00m\u001B[38;5;21;01malerts\u001B[39;00m \u001B[38;5;28;01mimport\u001B[39;00m Alert\n",
       "\u001B[1;32m      8\u001B[0m \u001B[38;5;28;01mfrom\u001B[39;00m \u001B[38;5;21;01mpandas_profiling\u001B[39;00m\u001B[38;5;21;01m.\u001B[39;00m\u001B[38;5;21;01mprofile_report\u001B[39;00m \u001B[38;5;28;01mimport\u001B[39;00m ProfileReport\n",
       "\n",
       "File \u001B[0;32m/local_disk0/.ephemeral_nfs/envs/pythonEnv-d95e3ea6-5048-4c7f-9bc6-9fe6a41ab7f9/lib/python3.10/site-packages/pandas_profiling/config.py:7\u001B[0m\n",
       "\u001B[1;32m      4\u001B[0m \u001B[38;5;28;01mfrom\u001B[39;00m \u001B[38;5;21;01mtyping\u001B[39;00m \u001B[38;5;28;01mimport\u001B[39;00m Any, Dict, List, Optional, Tuple, Union\n",
       "\u001B[1;32m      6\u001B[0m \u001B[38;5;28;01mimport\u001B[39;00m \u001B[38;5;21;01myaml\u001B[39;00m\n",
       "\u001B[0;32m----> 7\u001B[0m \u001B[38;5;28;01mfrom\u001B[39;00m \u001B[38;5;21;01mpydantic\u001B[39;00m \u001B[38;5;28;01mimport\u001B[39;00m BaseModel, BaseSettings, Field, PrivateAttr\n",
       "\u001B[1;32m     10\u001B[0m \u001B[38;5;28;01mdef\u001B[39;00m \u001B[38;5;21m_merge_dictionaries\u001B[39m(dict1: \u001B[38;5;28mdict\u001B[39m, dict2: \u001B[38;5;28mdict\u001B[39m) \u001B[38;5;241m-\u001B[39m\u001B[38;5;241m>\u001B[39m \u001B[38;5;28mdict\u001B[39m:\n",
       "\u001B[1;32m     11\u001B[0m     \u001B[38;5;124;03m\"\"\"\u001B[39;00m\n",
       "\u001B[1;32m     12\u001B[0m \u001B[38;5;124;03m    Recursive merge dictionaries.\u001B[39;00m\n",
       "\u001B[1;32m     13\u001B[0m \n",
       "\u001B[0;32m   (...)\u001B[0m\n",
       "\u001B[1;32m     16\u001B[0m \u001B[38;5;124;03m    :return: Merged dictionary\u001B[39;00m\n",
       "\u001B[1;32m     17\u001B[0m \u001B[38;5;124;03m    \"\"\"\u001B[39;00m\n",
       "\n",
       "File \u001B[0;32m/local_disk0/.ephemeral_nfs/envs/pythonEnv-d95e3ea6-5048-4c7f-9bc6-9fe6a41ab7f9/lib/python3.10/site-packages/pydantic/__init__.py:404\u001B[0m, in \u001B[0;36m__getattr__\u001B[0;34m(attr_name)\u001B[0m\n",
       "\u001B[1;32m    402\u001B[0m     \u001B[38;5;28;01mreturn\u001B[39;00m import_module(\u001B[38;5;124mf\u001B[39m\u001B[38;5;124m'\u001B[39m\u001B[38;5;124m.\u001B[39m\u001B[38;5;132;01m{\u001B[39;00mattr_name\u001B[38;5;132;01m}\u001B[39;00m\u001B[38;5;124m'\u001B[39m, package\u001B[38;5;241m=\u001B[39mpackage)\n",
       "\u001B[1;32m    403\u001B[0m \u001B[38;5;28;01melse\u001B[39;00m:\n",
       "\u001B[0;32m--> 404\u001B[0m     module \u001B[38;5;241m=\u001B[39m \u001B[43mimport_module\u001B[49m\u001B[43m(\u001B[49m\u001B[43mmodule_name\u001B[49m\u001B[43m,\u001B[49m\u001B[43m \u001B[49m\u001B[43mpackage\u001B[49m\u001B[38;5;241;43m=\u001B[39;49m\u001B[43mpackage\u001B[49m\u001B[43m)\u001B[49m\n",
       "\u001B[1;32m    405\u001B[0m     \u001B[38;5;28;01mreturn\u001B[39;00m \u001B[38;5;28mgetattr\u001B[39m(module, attr_name)\n",
       "\n",
       "File \u001B[0;32m/usr/lib/python3.10/importlib/__init__.py:126\u001B[0m, in \u001B[0;36mimport_module\u001B[0;34m(name, package)\u001B[0m\n",
       "\u001B[1;32m    124\u001B[0m             \u001B[38;5;28;01mbreak\u001B[39;00m\n",
       "\u001B[1;32m    125\u001B[0m         level \u001B[38;5;241m+\u001B[39m\u001B[38;5;241m=\u001B[39m \u001B[38;5;241m1\u001B[39m\n",
       "\u001B[0;32m--> 126\u001B[0m \u001B[38;5;28;01mreturn\u001B[39;00m \u001B[43m_bootstrap\u001B[49m\u001B[38;5;241;43m.\u001B[39;49m\u001B[43m_gcd_import\u001B[49m\u001B[43m(\u001B[49m\u001B[43mname\u001B[49m\u001B[43m[\u001B[49m\u001B[43mlevel\u001B[49m\u001B[43m:\u001B[49m\u001B[43m]\u001B[49m\u001B[43m,\u001B[49m\u001B[43m \u001B[49m\u001B[43mpackage\u001B[49m\u001B[43m,\u001B[49m\u001B[43m \u001B[49m\u001B[43mlevel\u001B[49m\u001B[43m)\u001B[49m\n",
       "\n",
       "File \u001B[0;32m/local_disk0/.ephemeral_nfs/envs/pythonEnv-d95e3ea6-5048-4c7f-9bc6-9fe6a41ab7f9/lib/python3.10/site-packages/pydantic/main.py:27\u001B[0m\n",
       "\u001B[1;32m     10\u001B[0m \u001B[38;5;28;01mfrom\u001B[39;00m \u001B[38;5;21;01mcopy\u001B[39;00m \u001B[38;5;28;01mimport\u001B[39;00m copy, deepcopy\n",
       "\u001B[1;32m     11\u001B[0m \u001B[38;5;28;01mfrom\u001B[39;00m \u001B[38;5;21;01mtyping\u001B[39;00m \u001B[38;5;28;01mimport\u001B[39;00m (\n",
       "\u001B[1;32m     12\u001B[0m     TYPE_CHECKING,\n",
       "\u001B[1;32m     13\u001B[0m     Any,\n",
       "\u001B[0;32m   (...)\u001B[0m\n",
       "\u001B[1;32m     24\u001B[0m     overload,\n",
       "\u001B[1;32m     25\u001B[0m )\n",
       "\u001B[0;32m---> 27\u001B[0m \u001B[38;5;28;01mimport\u001B[39;00m \u001B[38;5;21;01mpydantic_core\u001B[39;00m\n",
       "\u001B[1;32m     28\u001B[0m \u001B[38;5;28;01mimport\u001B[39;00m \u001B[38;5;21;01mtyping_extensions\u001B[39;00m\n",
       "\u001B[1;32m     29\u001B[0m \u001B[38;5;28;01mfrom\u001B[39;00m \u001B[38;5;21;01mpydantic_core\u001B[39;00m \u001B[38;5;28;01mimport\u001B[39;00m PydanticUndefined\n",
       "\n",
       "File \u001B[0;32m/local_disk0/.ephemeral_nfs/envs/pythonEnv-d95e3ea6-5048-4c7f-9bc6-9fe6a41ab7f9/lib/python3.10/site-packages/pydantic_core/__init__.py:30\u001B[0m\n",
       "\u001B[1;32m      4\u001B[0m \u001B[38;5;28;01mfrom\u001B[39;00m \u001B[38;5;21;01mtyping\u001B[39;00m \u001B[38;5;28;01mimport\u001B[39;00m Any \u001B[38;5;28;01mas\u001B[39;00m _Any\n",
       "\u001B[1;32m      6\u001B[0m \u001B[38;5;28;01mfrom\u001B[39;00m \u001B[38;5;21;01m.\u001B[39;00m\u001B[38;5;21;01m_pydantic_core\u001B[39;00m \u001B[38;5;28;01mimport\u001B[39;00m (\n",
       "\u001B[1;32m      7\u001B[0m     ArgsKwargs,\n",
       "\u001B[1;32m      8\u001B[0m     MultiHostUrl,\n",
       "\u001B[0;32m   (...)\u001B[0m\n",
       "\u001B[1;32m     28\u001B[0m     validate_core_schema,\n",
       "\u001B[1;32m     29\u001B[0m )\n",
       "\u001B[0;32m---> 30\u001B[0m \u001B[38;5;28;01mfrom\u001B[39;00m \u001B[38;5;21;01m.\u001B[39;00m\u001B[38;5;21;01mcore_schema\u001B[39;00m \u001B[38;5;28;01mimport\u001B[39;00m CoreConfig, CoreSchema, CoreSchemaType, ErrorType\n",
       "\u001B[1;32m     32\u001B[0m \u001B[38;5;28;01mif\u001B[39;00m _sys\u001B[38;5;241m.\u001B[39mversion_info \u001B[38;5;241m<\u001B[39m (\u001B[38;5;241m3\u001B[39m, \u001B[38;5;241m11\u001B[39m):\n",
       "\u001B[1;32m     33\u001B[0m     \u001B[38;5;28;01mfrom\u001B[39;00m \u001B[38;5;21;01mtyping_extensions\u001B[39;00m \u001B[38;5;28;01mimport\u001B[39;00m NotRequired \u001B[38;5;28;01mas\u001B[39;00m _NotRequired\n",
       "\n",
       "File \u001B[0;32m/local_disk0/.ephemeral_nfs/envs/pythonEnv-d95e3ea6-5048-4c7f-9bc6-9fe6a41ab7f9/lib/python3.10/site-packages/pydantic_core/core_schema.py:15\u001B[0m\n",
       "\u001B[1;32m     12\u001B[0m \u001B[38;5;28;01mfrom\u001B[39;00m \u001B[38;5;21;01mdecimal\u001B[39;00m \u001B[38;5;28;01mimport\u001B[39;00m Decimal\n",
       "\u001B[1;32m     13\u001B[0m \u001B[38;5;28;01mfrom\u001B[39;00m \u001B[38;5;21;01mtyping\u001B[39;00m \u001B[38;5;28;01mimport\u001B[39;00m TYPE_CHECKING, Any, Callable, Dict, Hashable, List, Pattern, Set, Tuple, Type, Union\n",
       "\u001B[0;32m---> 15\u001B[0m \u001B[38;5;28;01mfrom\u001B[39;00m \u001B[38;5;21;01mtyping_extensions\u001B[39;00m \u001B[38;5;28;01mimport\u001B[39;00m deprecated\n",
       "\u001B[1;32m     17\u001B[0m \u001B[38;5;28;01mif\u001B[39;00m sys\u001B[38;5;241m.\u001B[39mversion_info \u001B[38;5;241m<\u001B[39m (\u001B[38;5;241m3\u001B[39m, \u001B[38;5;241m12\u001B[39m):\n",
       "\u001B[1;32m     18\u001B[0m     \u001B[38;5;28;01mfrom\u001B[39;00m \u001B[38;5;21;01mtyping_extensions\u001B[39;00m \u001B[38;5;28;01mimport\u001B[39;00m TypedDict\n",
       "\n",
       "\u001B[0;31mImportError\u001B[0m: cannot import name 'deprecated' from 'typing_extensions' (/databricks/python/lib/python3.10/site-packages/typing_extensions.py)"
      ]
     },
     "metadata": {
      "application/vnd.databricks.v1+output": {
       "addedWidgets": {},
       "arguments": {},
       "datasetInfos": [],
       "jupyterProps": {
        "ename": "ImportError",
        "evalue": "cannot import name 'deprecated' from 'typing_extensions' (/databricks/python/lib/python3.10/site-packages/typing_extensions.py)"
       },
       "metadata": {
        "errorSummary": "<span class='ansi-red-fg'>ImportError</span>: cannot import name 'deprecated' from 'typing_extensions' (/databricks/python/lib/python3.10/site-packages/typing_extensions.py)"
       },
       "removedWidgets": [],
       "sqlProps": null,
       "stackFrames": [
        "\u001B[0;31m---------------------------------------------------------------------------\u001B[0m",
        "\u001B[0;31mImportError\u001B[0m                               Traceback (most recent call last)",
        "File \u001B[0;32m<command-1573740770627934>, line 2\u001B[0m\n\u001B[1;32m      1\u001B[0m \u001B[38;5;28;01mimport\u001B[39;00m \u001B[38;5;21;01mpandas\u001B[39;00m \u001B[38;5;28;01mas\u001B[39;00m \u001B[38;5;21;01mpd\u001B[39;00m  \n\u001B[0;32m----> 2\u001B[0m \u001B[38;5;28;01mfrom\u001B[39;00m \u001B[38;5;21;01mpandas_profiling\u001B[39;00m \u001B[38;5;28;01mimport\u001B[39;00m ProfileReport  \n\u001B[1;32m      4\u001B[0m df \u001B[38;5;241m=\u001B[39m pd\u001B[38;5;241m.\u001B[39mread_csv(\u001B[38;5;124m'\u001B[39m\u001B[38;5;124mfinal_dataset.csv\u001B[39m\u001B[38;5;124m'\u001B[39m)  \n\u001B[1;32m      7\u001B[0m profile \u001B[38;5;241m=\u001B[39m ProfileReport(df, title\u001B[38;5;241m=\u001B[39m\u001B[38;5;124m'\u001B[39m\u001B[38;5;124mProfile Report\u001B[39m\u001B[38;5;124m'\u001B[39m, explorative\u001B[38;5;241m=\u001B[39m\u001B[38;5;28;01mTrue\u001B[39;00m)  \n",
        "File \u001B[0;32m/local_disk0/.ephemeral_nfs/envs/pythonEnv-d95e3ea6-5048-4c7f-9bc6-9fe6a41ab7f9/lib/python3.10/site-packages/pandas_profiling/__init__.py:8\u001B[0m\n\u001B[1;32m      1\u001B[0m \u001B[38;5;124;03m\"\"\"Main module of pandas-profiling.\u001B[39;00m\n\u001B[1;32m      2\u001B[0m \n\u001B[1;32m      3\u001B[0m \u001B[38;5;124;03m.. include:: ../../README.md\u001B[39;00m\n\u001B[1;32m      4\u001B[0m \u001B[38;5;124;03m\"\"\"\u001B[39;00m\n\u001B[1;32m      6\u001B[0m \u001B[38;5;28;01mfrom\u001B[39;00m \u001B[38;5;21;01mwarnings\u001B[39;00m \u001B[38;5;28;01mimport\u001B[39;00m warn\n\u001B[0;32m----> 8\u001B[0m \u001B[38;5;28;01mfrom\u001B[39;00m \u001B[38;5;21;01mpandas_profiling\u001B[39;00m\u001B[38;5;21;01m.\u001B[39;00m\u001B[38;5;21;01mcompare_reports\u001B[39;00m \u001B[38;5;28;01mimport\u001B[39;00m compare\n\u001B[1;32m      9\u001B[0m \u001B[38;5;28;01mfrom\u001B[39;00m \u001B[38;5;21;01mpandas_profiling\u001B[39;00m\u001B[38;5;21;01m.\u001B[39;00m\u001B[38;5;21;01mcontroller\u001B[39;00m \u001B[38;5;28;01mimport\u001B[39;00m pandas_decorator\n\u001B[1;32m     10\u001B[0m \u001B[38;5;28;01mfrom\u001B[39;00m \u001B[38;5;21;01mpandas_profiling\u001B[39;00m\u001B[38;5;21;01m.\u001B[39;00m\u001B[38;5;21;01mprofile_report\u001B[39;00m \u001B[38;5;28;01mimport\u001B[39;00m ProfileReport\n",
        "File \u001B[0;32m/local_disk0/.ephemeral_nfs/envs/pythonEnv-d95e3ea6-5048-4c7f-9bc6-9fe6a41ab7f9/lib/python3.10/site-packages/pandas_profiling/compare_reports.py:6\u001B[0m\n\u001B[1;32m      2\u001B[0m \u001B[38;5;28;01mfrom\u001B[39;00m \u001B[38;5;21;01mtyping\u001B[39;00m \u001B[38;5;28;01mimport\u001B[39;00m Any, List, Optional, Tuple, Union\n\u001B[1;32m      4\u001B[0m \u001B[38;5;28;01mimport\u001B[39;00m \u001B[38;5;21;01mpandas\u001B[39;00m \u001B[38;5;28;01mas\u001B[39;00m \u001B[38;5;21;01mpd\u001B[39;00m\n\u001B[0;32m----> 6\u001B[0m \u001B[38;5;28;01mfrom\u001B[39;00m \u001B[38;5;21;01mpandas_profiling\u001B[39;00m\u001B[38;5;21;01m.\u001B[39;00m\u001B[38;5;21;01mconfig\u001B[39;00m \u001B[38;5;28;01mimport\u001B[39;00m Correlation, Settings\n\u001B[1;32m      7\u001B[0m \u001B[38;5;28;01mfrom\u001B[39;00m \u001B[38;5;21;01mpandas_profiling\u001B[39;00m\u001B[38;5;21;01m.\u001B[39;00m\u001B[38;5;21;01mmodel\u001B[39;00m\u001B[38;5;21;01m.\u001B[39;00m\u001B[38;5;21;01malerts\u001B[39;00m \u001B[38;5;28;01mimport\u001B[39;00m Alert\n\u001B[1;32m      8\u001B[0m \u001B[38;5;28;01mfrom\u001B[39;00m \u001B[38;5;21;01mpandas_profiling\u001B[39;00m\u001B[38;5;21;01m.\u001B[39;00m\u001B[38;5;21;01mprofile_report\u001B[39;00m \u001B[38;5;28;01mimport\u001B[39;00m ProfileReport\n",
        "File \u001B[0;32m/local_disk0/.ephemeral_nfs/envs/pythonEnv-d95e3ea6-5048-4c7f-9bc6-9fe6a41ab7f9/lib/python3.10/site-packages/pandas_profiling/config.py:7\u001B[0m\n\u001B[1;32m      4\u001B[0m \u001B[38;5;28;01mfrom\u001B[39;00m \u001B[38;5;21;01mtyping\u001B[39;00m \u001B[38;5;28;01mimport\u001B[39;00m Any, Dict, List, Optional, Tuple, Union\n\u001B[1;32m      6\u001B[0m \u001B[38;5;28;01mimport\u001B[39;00m \u001B[38;5;21;01myaml\u001B[39;00m\n\u001B[0;32m----> 7\u001B[0m \u001B[38;5;28;01mfrom\u001B[39;00m \u001B[38;5;21;01mpydantic\u001B[39;00m \u001B[38;5;28;01mimport\u001B[39;00m BaseModel, BaseSettings, Field, PrivateAttr\n\u001B[1;32m     10\u001B[0m \u001B[38;5;28;01mdef\u001B[39;00m \u001B[38;5;21m_merge_dictionaries\u001B[39m(dict1: \u001B[38;5;28mdict\u001B[39m, dict2: \u001B[38;5;28mdict\u001B[39m) \u001B[38;5;241m-\u001B[39m\u001B[38;5;241m>\u001B[39m \u001B[38;5;28mdict\u001B[39m:\n\u001B[1;32m     11\u001B[0m     \u001B[38;5;124;03m\"\"\"\u001B[39;00m\n\u001B[1;32m     12\u001B[0m \u001B[38;5;124;03m    Recursive merge dictionaries.\u001B[39;00m\n\u001B[1;32m     13\u001B[0m \n\u001B[0;32m   (...)\u001B[0m\n\u001B[1;32m     16\u001B[0m \u001B[38;5;124;03m    :return: Merged dictionary\u001B[39;00m\n\u001B[1;32m     17\u001B[0m \u001B[38;5;124;03m    \"\"\"\u001B[39;00m\n",
        "File \u001B[0;32m/local_disk0/.ephemeral_nfs/envs/pythonEnv-d95e3ea6-5048-4c7f-9bc6-9fe6a41ab7f9/lib/python3.10/site-packages/pydantic/__init__.py:404\u001B[0m, in \u001B[0;36m__getattr__\u001B[0;34m(attr_name)\u001B[0m\n\u001B[1;32m    402\u001B[0m     \u001B[38;5;28;01mreturn\u001B[39;00m import_module(\u001B[38;5;124mf\u001B[39m\u001B[38;5;124m'\u001B[39m\u001B[38;5;124m.\u001B[39m\u001B[38;5;132;01m{\u001B[39;00mattr_name\u001B[38;5;132;01m}\u001B[39;00m\u001B[38;5;124m'\u001B[39m, package\u001B[38;5;241m=\u001B[39mpackage)\n\u001B[1;32m    403\u001B[0m \u001B[38;5;28;01melse\u001B[39;00m:\n\u001B[0;32m--> 404\u001B[0m     module \u001B[38;5;241m=\u001B[39m \u001B[43mimport_module\u001B[49m\u001B[43m(\u001B[49m\u001B[43mmodule_name\u001B[49m\u001B[43m,\u001B[49m\u001B[43m \u001B[49m\u001B[43mpackage\u001B[49m\u001B[38;5;241;43m=\u001B[39;49m\u001B[43mpackage\u001B[49m\u001B[43m)\u001B[49m\n\u001B[1;32m    405\u001B[0m     \u001B[38;5;28;01mreturn\u001B[39;00m \u001B[38;5;28mgetattr\u001B[39m(module, attr_name)\n",
        "File \u001B[0;32m/usr/lib/python3.10/importlib/__init__.py:126\u001B[0m, in \u001B[0;36mimport_module\u001B[0;34m(name, package)\u001B[0m\n\u001B[1;32m    124\u001B[0m             \u001B[38;5;28;01mbreak\u001B[39;00m\n\u001B[1;32m    125\u001B[0m         level \u001B[38;5;241m+\u001B[39m\u001B[38;5;241m=\u001B[39m \u001B[38;5;241m1\u001B[39m\n\u001B[0;32m--> 126\u001B[0m \u001B[38;5;28;01mreturn\u001B[39;00m \u001B[43m_bootstrap\u001B[49m\u001B[38;5;241;43m.\u001B[39;49m\u001B[43m_gcd_import\u001B[49m\u001B[43m(\u001B[49m\u001B[43mname\u001B[49m\u001B[43m[\u001B[49m\u001B[43mlevel\u001B[49m\u001B[43m:\u001B[49m\u001B[43m]\u001B[49m\u001B[43m,\u001B[49m\u001B[43m \u001B[49m\u001B[43mpackage\u001B[49m\u001B[43m,\u001B[49m\u001B[43m \u001B[49m\u001B[43mlevel\u001B[49m\u001B[43m)\u001B[49m\n",
        "File \u001B[0;32m/local_disk0/.ephemeral_nfs/envs/pythonEnv-d95e3ea6-5048-4c7f-9bc6-9fe6a41ab7f9/lib/python3.10/site-packages/pydantic/main.py:27\u001B[0m\n\u001B[1;32m     10\u001B[0m \u001B[38;5;28;01mfrom\u001B[39;00m \u001B[38;5;21;01mcopy\u001B[39;00m \u001B[38;5;28;01mimport\u001B[39;00m copy, deepcopy\n\u001B[1;32m     11\u001B[0m \u001B[38;5;28;01mfrom\u001B[39;00m \u001B[38;5;21;01mtyping\u001B[39;00m \u001B[38;5;28;01mimport\u001B[39;00m (\n\u001B[1;32m     12\u001B[0m     TYPE_CHECKING,\n\u001B[1;32m     13\u001B[0m     Any,\n\u001B[0;32m   (...)\u001B[0m\n\u001B[1;32m     24\u001B[0m     overload,\n\u001B[1;32m     25\u001B[0m )\n\u001B[0;32m---> 27\u001B[0m \u001B[38;5;28;01mimport\u001B[39;00m \u001B[38;5;21;01mpydantic_core\u001B[39;00m\n\u001B[1;32m     28\u001B[0m \u001B[38;5;28;01mimport\u001B[39;00m \u001B[38;5;21;01mtyping_extensions\u001B[39;00m\n\u001B[1;32m     29\u001B[0m \u001B[38;5;28;01mfrom\u001B[39;00m \u001B[38;5;21;01mpydantic_core\u001B[39;00m \u001B[38;5;28;01mimport\u001B[39;00m PydanticUndefined\n",
        "File \u001B[0;32m/local_disk0/.ephemeral_nfs/envs/pythonEnv-d95e3ea6-5048-4c7f-9bc6-9fe6a41ab7f9/lib/python3.10/site-packages/pydantic_core/__init__.py:30\u001B[0m\n\u001B[1;32m      4\u001B[0m \u001B[38;5;28;01mfrom\u001B[39;00m \u001B[38;5;21;01mtyping\u001B[39;00m \u001B[38;5;28;01mimport\u001B[39;00m Any \u001B[38;5;28;01mas\u001B[39;00m _Any\n\u001B[1;32m      6\u001B[0m \u001B[38;5;28;01mfrom\u001B[39;00m \u001B[38;5;21;01m.\u001B[39;00m\u001B[38;5;21;01m_pydantic_core\u001B[39;00m \u001B[38;5;28;01mimport\u001B[39;00m (\n\u001B[1;32m      7\u001B[0m     ArgsKwargs,\n\u001B[1;32m      8\u001B[0m     MultiHostUrl,\n\u001B[0;32m   (...)\u001B[0m\n\u001B[1;32m     28\u001B[0m     validate_core_schema,\n\u001B[1;32m     29\u001B[0m )\n\u001B[0;32m---> 30\u001B[0m \u001B[38;5;28;01mfrom\u001B[39;00m \u001B[38;5;21;01m.\u001B[39;00m\u001B[38;5;21;01mcore_schema\u001B[39;00m \u001B[38;5;28;01mimport\u001B[39;00m CoreConfig, CoreSchema, CoreSchemaType, ErrorType\n\u001B[1;32m     32\u001B[0m \u001B[38;5;28;01mif\u001B[39;00m _sys\u001B[38;5;241m.\u001B[39mversion_info \u001B[38;5;241m<\u001B[39m (\u001B[38;5;241m3\u001B[39m, \u001B[38;5;241m11\u001B[39m):\n\u001B[1;32m     33\u001B[0m     \u001B[38;5;28;01mfrom\u001B[39;00m \u001B[38;5;21;01mtyping_extensions\u001B[39;00m \u001B[38;5;28;01mimport\u001B[39;00m NotRequired \u001B[38;5;28;01mas\u001B[39;00m _NotRequired\n",
        "File \u001B[0;32m/local_disk0/.ephemeral_nfs/envs/pythonEnv-d95e3ea6-5048-4c7f-9bc6-9fe6a41ab7f9/lib/python3.10/site-packages/pydantic_core/core_schema.py:15\u001B[0m\n\u001B[1;32m     12\u001B[0m \u001B[38;5;28;01mfrom\u001B[39;00m \u001B[38;5;21;01mdecimal\u001B[39;00m \u001B[38;5;28;01mimport\u001B[39;00m Decimal\n\u001B[1;32m     13\u001B[0m \u001B[38;5;28;01mfrom\u001B[39;00m \u001B[38;5;21;01mtyping\u001B[39;00m \u001B[38;5;28;01mimport\u001B[39;00m TYPE_CHECKING, Any, Callable, Dict, Hashable, List, Pattern, Set, Tuple, Type, Union\n\u001B[0;32m---> 15\u001B[0m \u001B[38;5;28;01mfrom\u001B[39;00m \u001B[38;5;21;01mtyping_extensions\u001B[39;00m \u001B[38;5;28;01mimport\u001B[39;00m deprecated\n\u001B[1;32m     17\u001B[0m \u001B[38;5;28;01mif\u001B[39;00m sys\u001B[38;5;241m.\u001B[39mversion_info \u001B[38;5;241m<\u001B[39m (\u001B[38;5;241m3\u001B[39m, \u001B[38;5;241m12\u001B[39m):\n\u001B[1;32m     18\u001B[0m     \u001B[38;5;28;01mfrom\u001B[39;00m \u001B[38;5;21;01mtyping_extensions\u001B[39;00m \u001B[38;5;28;01mimport\u001B[39;00m TypedDict\n",
        "\u001B[0;31mImportError\u001B[0m: cannot import name 'deprecated' from 'typing_extensions' (/databricks/python/lib/python3.10/site-packages/typing_extensions.py)"
       ],
       "type": "baseError"
      }
     },
     "output_type": "display_data"
    }
   ],
   "source": [
    "import pandas as pd  \n",
    "from pandas_profiling import ProfileReport  \n",
    "\n",
    "df = pd.read_csv('final_dataset.csv')  \n",
    "\n",
    "\n",
    "profile = ProfileReport(df, title='Profile Report', explorative=True)  \n",
    "\n",
    "profile.to_file('profile_report.html')  \n"
   ]
  }
 ],
 "metadata": {
  "application/vnd.databricks.v1+notebook": {
   "dashboards": [],
   "environmentMetadata": null,
   "language": "python",
   "notebookMetadata": {
    "pythonIndentUnit": 4
   },
   "notebookName": "working_version",
   "widgets": {}
  }
 },
 "nbformat": 4,
 "nbformat_minor": 0
}
